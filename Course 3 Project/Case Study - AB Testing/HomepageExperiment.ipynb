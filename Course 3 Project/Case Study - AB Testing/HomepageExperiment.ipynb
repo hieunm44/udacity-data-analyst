{
 "cells": [
  {
   "metadata": {},
   "cell_type": "markdown",
   "source": "# A/B Testing - Homepage Experiment",
   "id": "16c1ea54aaa78604"
  },
  {
   "cell_type": "code",
   "id": "initial_id",
   "metadata": {
    "collapsed": true,
    "ExecuteTime": {
     "end_time": "2025-06-07T08:20:17.838073Z",
     "start_time": "2025-06-07T08:20:17.834142Z"
    }
   },
   "source": [
    "import pandas as pd\n",
    "import numpy as np\n",
    "import matplotlib.pyplot as plt\n",
    "np.random.seed(42)"
   ],
   "outputs": [],
   "execution_count": 11
  },
  {
   "metadata": {},
   "cell_type": "markdown",
   "source": [
    "## 1. Experiment 1\n",
    "First change là Udacity muốn thay đổi homepage design. Metric là **Click-through rate (CTR)**, đc defined là number of clicks chia cho number of views.\n",
    "**CTR: # clicks by unique users / # views by unique users**\n",
    "\n",
    "Hypotheses là:\n",
    "$$\n",
    "H_0:CTR_{new} \\le CTR_{old}; \\quad H_1: CTR_{new} > CTR_{old}\n",
    "$$\n",
    "\n",
    "Alternative hypothesis là điều ta mong muốn, và null hypothesis là điều ta giả định là đúng trước khi analyze data, nghĩa là new homepage design CTR ko cao hơn CTR của old homepage design. Có thể rearrange hypotheses thành:\n",
    "$$\n",
    "H_0:CTR_{new} - CTR_{old} \\le 0; \\quad H_1: CTR_{new} - CTR_{old} > 0\n",
    "$$"
   ],
   "id": "1ace037aaaf17f53"
  },
  {
   "metadata": {
    "ExecuteTime": {
     "end_time": "2025-06-07T08:20:17.885549Z",
     "start_time": "2025-06-07T08:20:17.867709Z"
    }
   },
   "cell_type": "code",
   "source": [
    "df = pd.read_csv('homepage_actions.csv')\n",
    "df.head()"
   ],
   "id": "1b65386109aefd19",
   "outputs": [
    {
     "data": {
      "text/plain": [
       "                    timestamp      id       group action\n",
       "0  2016-09-24 17:42:27.839496  804196  experiment   view\n",
       "1  2016-09-24 19:19:03.542569  434745  experiment   view\n",
       "2  2016-09-24 19:36:00.944135  507599  experiment   view\n",
       "3  2016-09-24 19:59:02.646620  671993     control   view\n",
       "4  2016-09-24 20:26:14.466886  536734  experiment   view"
      ],
      "text/html": [
       "<div>\n",
       "<style scoped>\n",
       "    .dataframe tbody tr th:only-of-type {\n",
       "        vertical-align: middle;\n",
       "    }\n",
       "\n",
       "    .dataframe tbody tr th {\n",
       "        vertical-align: top;\n",
       "    }\n",
       "\n",
       "    .dataframe thead th {\n",
       "        text-align: right;\n",
       "    }\n",
       "</style>\n",
       "<table border=\"1\" class=\"dataframe\">\n",
       "  <thead>\n",
       "    <tr style=\"text-align: right;\">\n",
       "      <th></th>\n",
       "      <th>timestamp</th>\n",
       "      <th>id</th>\n",
       "      <th>group</th>\n",
       "      <th>action</th>\n",
       "    </tr>\n",
       "  </thead>\n",
       "  <tbody>\n",
       "    <tr>\n",
       "      <th>0</th>\n",
       "      <td>2016-09-24 17:42:27.839496</td>\n",
       "      <td>804196</td>\n",
       "      <td>experiment</td>\n",
       "      <td>view</td>\n",
       "    </tr>\n",
       "    <tr>\n",
       "      <th>1</th>\n",
       "      <td>2016-09-24 19:19:03.542569</td>\n",
       "      <td>434745</td>\n",
       "      <td>experiment</td>\n",
       "      <td>view</td>\n",
       "    </tr>\n",
       "    <tr>\n",
       "      <th>2</th>\n",
       "      <td>2016-09-24 19:36:00.944135</td>\n",
       "      <td>507599</td>\n",
       "      <td>experiment</td>\n",
       "      <td>view</td>\n",
       "    </tr>\n",
       "    <tr>\n",
       "      <th>3</th>\n",
       "      <td>2016-09-24 19:59:02.646620</td>\n",
       "      <td>671993</td>\n",
       "      <td>control</td>\n",
       "      <td>view</td>\n",
       "    </tr>\n",
       "    <tr>\n",
       "      <th>4</th>\n",
       "      <td>2016-09-24 20:26:14.466886</td>\n",
       "      <td>536734</td>\n",
       "      <td>experiment</td>\n",
       "      <td>view</td>\n",
       "    </tr>\n",
       "  </tbody>\n",
       "</table>\n",
       "</div>"
      ]
     },
     "execution_count": 12,
     "metadata": {},
     "output_type": "execute_result"
    }
   ],
   "execution_count": 12
  },
  {
   "metadata": {},
   "cell_type": "markdown",
   "source": "### 1.1 Match the following characteristics of this dataset",
   "id": "b96d0f06fe1c91c8"
  },
  {
   "metadata": {
    "ExecuteTime": {
     "end_time": "2025-06-07T08:20:18.007443Z",
     "start_time": "2025-06-07T08:20:18.002155Z"
    }
   },
   "cell_type": "code",
   "source": [
    "# Total number of actions\n",
    "df.action.count()"
   ],
   "id": "e349ba9fb80ba981",
   "outputs": [
    {
     "data": {
      "text/plain": [
       "8188"
      ]
     },
     "execution_count": 13,
     "metadata": {},
     "output_type": "execute_result"
    }
   ],
   "execution_count": 13
  },
  {
   "metadata": {
    "ExecuteTime": {
     "end_time": "2025-06-07T08:20:18.142173Z",
     "start_time": "2025-06-07T08:20:18.128317Z"
    }
   },
   "cell_type": "code",
   "source": [
    "# Number of unique users\n",
    "df.id.nunique()"
   ],
   "id": "3b9f93dcb2a8f76d",
   "outputs": [
    {
     "data": {
      "text/plain": [
       "6328"
      ]
     },
     "execution_count": 14,
     "metadata": {},
     "output_type": "execute_result"
    }
   ],
   "execution_count": 14
  },
  {
   "metadata": {
    "ExecuteTime": {
     "end_time": "2025-06-07T08:20:18.301801Z",
     "start_time": "2025-06-07T08:20:18.292798Z"
    }
   },
   "cell_type": "code",
   "source": [
    "# Size of control group and experiment group\n",
    "control_df = df.query(\"group=='control'\")\n",
    "experiment_df = df.query(\"group=='experiment'\")"
   ],
   "id": "7d35666e9644ae31",
   "outputs": [],
   "execution_count": 15
  },
  {
   "metadata": {
    "ExecuteTime": {
     "end_time": "2025-06-07T08:20:18.429862Z",
     "start_time": "2025-06-07T08:20:18.425329Z"
    }
   },
   "cell_type": "code",
   "source": "print(len(control_df), len(experiment_df))",
   "id": "4da58cf872e35b1d",
   "outputs": [
    {
     "name": "stdout",
     "output_type": "stream",
     "text": [
      "4264 3924\n"
     ]
    }
   ],
   "execution_count": 16
  },
  {
   "metadata": {},
   "cell_type": "markdown",
   "source": "### 1.2. How long was the experiment run for?",
   "id": "1048a8e6034b3177"
  },
  {
   "metadata": {
    "ExecuteTime": {
     "end_time": "2025-06-07T08:20:18.534516Z",
     "start_time": "2025-06-07T08:20:18.525917Z"
    }
   },
   "cell_type": "code",
   "source": [
    "min_timestamp = pd.to_datetime(df.timestamp.min())\n",
    "max_timestamp = pd.to_datetime(df.timestamp.max())\n",
    "pd.Timedelta(max_timestamp-min_timestamp)"
   ],
   "id": "e5eee92c8b92dcc5",
   "outputs": [
    {
     "data": {
      "text/plain": [
       "Timedelta('115 days 16:41:40.789831')"
      ]
     },
     "execution_count": 17,
     "metadata": {},
     "output_type": "execute_result"
    }
   ],
   "execution_count": 17
  },
  {
   "metadata": {},
   "cell_type": "markdown",
   "source": "### 1.3. What action types are recorded in this dataset?",
   "id": "4ea4c24d1d5be1d"
  },
  {
   "metadata": {
    "ExecuteTime": {
     "end_time": "2025-06-07T08:20:18.599784Z",
     "start_time": "2025-06-07T08:20:18.593326Z"
    }
   },
   "cell_type": "code",
   "source": "df.action.unique()",
   "id": "378ef628652f122d",
   "outputs": [
    {
     "data": {
      "text/plain": [
       "array(['view', 'click'], dtype=object)"
      ]
     },
     "execution_count": 18,
     "metadata": {},
     "output_type": "execute_result"
    }
   ],
   "execution_count": 18
  },
  {
   "metadata": {},
   "cell_type": "markdown",
   "source": "### 1.4. CTR",
   "id": "f77f80a9a77f24b8"
  },
  {
   "metadata": {
    "ExecuteTime": {
     "end_time": "2025-06-07T08:20:18.717747Z",
     "start_time": "2025-06-07T08:20:18.703305Z"
    }
   },
   "cell_type": "code",
   "source": "df.query('action == \"click\"').id.nunique() / df.query('action == \"view\"').id.nunique()",
   "id": "e7fbc71e09af3fad",
   "outputs": [
    {
     "data": {
      "text/plain": [
       "0.2939317319848293"
      ]
     },
     "execution_count": 19,
     "metadata": {},
     "output_type": "execute_result"
    }
   ],
   "execution_count": 19
  },
  {
   "metadata": {},
   "cell_type": "markdown",
   "source": [
    "## 2. Experiment\n",
    "Second change là Udacity muốn thay đổi course overview page có more career-focused description. Các metrics là:\n",
    "1. __Enrollment Rate__: Click-through rate for the Enroll button on the course overview page\n",
    "2. __Average Reading Duration__: Average number of seconds spent on the course overview page\n",
    "3. __Average Classroom Time__: Average number of days spent in the classroom for students enrolled in the course\n",
    "4. __Completion Rate__: Course completion rate for students enrolled in the course\n",
    "\n",
    "Các bước thực hiện A/B test cho mỗi metric:\n",
    "1. Tính observed difference between the metric của control và experiment groups.\n",
    "2. Mô phỏng sampling distribution for the difference in means.\n",
    "3. Dùng sampling distribution để mô phỏng distribution under null hypothesis bằng cách tạo một normal distribution centered at 0 with same spread and size.\n",
    "4. Tính p-value là proportion of values in null distribution greater than observed difference.\n",
    "5. Dùng p-value để xđ statistical significance of observed difference.\n",
    "\n",
    "### 2.1. Metric: Enrollmennt Rate"
   ],
   "id": "ec8db41c18f9db6"
  },
  {
   "metadata": {},
   "cell_type": "code",
   "outputs": [
    {
     "data": {
      "text/plain": [
       "                    timestamp      id       group action    duration\n",
       "0  2016-09-24 17:14:52.012145  261869  experiment   view  130.545004\n",
       "1  2016-09-24 18:45:09.645857  226546  experiment   view  159.862440\n",
       "2  2016-09-24 19:16:21.002533  286353  experiment   view   79.349315\n",
       "3  2016-09-24 19:43:06.927785  842279  experiment   view   55.536126\n",
       "4  2016-09-24 21:08:22.790333  781883  experiment   view  204.322437"
      ],
      "text/html": [
       "<div>\n",
       "<style scoped>\n",
       "    .dataframe tbody tr th:only-of-type {\n",
       "        vertical-align: middle;\n",
       "    }\n",
       "\n",
       "    .dataframe tbody tr th {\n",
       "        vertical-align: top;\n",
       "    }\n",
       "\n",
       "    .dataframe thead th {\n",
       "        text-align: right;\n",
       "    }\n",
       "</style>\n",
       "<table border=\"1\" class=\"dataframe\">\n",
       "  <thead>\n",
       "    <tr style=\"text-align: right;\">\n",
       "      <th></th>\n",
       "      <th>timestamp</th>\n",
       "      <th>id</th>\n",
       "      <th>group</th>\n",
       "      <th>action</th>\n",
       "      <th>duration</th>\n",
       "    </tr>\n",
       "  </thead>\n",
       "  <tbody>\n",
       "    <tr>\n",
       "      <th>0</th>\n",
       "      <td>2016-09-24 17:14:52.012145</td>\n",
       "      <td>261869</td>\n",
       "      <td>experiment</td>\n",
       "      <td>view</td>\n",
       "      <td>130.545004</td>\n",
       "    </tr>\n",
       "    <tr>\n",
       "      <th>1</th>\n",
       "      <td>2016-09-24 18:45:09.645857</td>\n",
       "      <td>226546</td>\n",
       "      <td>experiment</td>\n",
       "      <td>view</td>\n",
       "      <td>159.862440</td>\n",
       "    </tr>\n",
       "    <tr>\n",
       "      <th>2</th>\n",
       "      <td>2016-09-24 19:16:21.002533</td>\n",
       "      <td>286353</td>\n",
       "      <td>experiment</td>\n",
       "      <td>view</td>\n",
       "      <td>79.349315</td>\n",
       "    </tr>\n",
       "    <tr>\n",
       "      <th>3</th>\n",
       "      <td>2016-09-24 19:43:06.927785</td>\n",
       "      <td>842279</td>\n",
       "      <td>experiment</td>\n",
       "      <td>view</td>\n",
       "      <td>55.536126</td>\n",
       "    </tr>\n",
       "    <tr>\n",
       "      <th>4</th>\n",
       "      <td>2016-09-24 21:08:22.790333</td>\n",
       "      <td>781883</td>\n",
       "      <td>experiment</td>\n",
       "      <td>view</td>\n",
       "      <td>204.322437</td>\n",
       "    </tr>\n",
       "  </tbody>\n",
       "</table>\n",
       "</div>"
      ]
     },
     "execution_count": 20,
     "metadata": {},
     "output_type": "execute_result"
    }
   ],
   "execution_count": 20,
   "source": [
    "df = pd.read_csv('course_page_actions.csv')\n",
    "df.head()"
   ],
   "id": "f2c9f2d906414090"
  },
  {
   "metadata": {
    "ExecuteTime": {
     "end_time": "2025-06-07T08:20:18.930848Z",
     "start_time": "2025-06-07T08:20:18.914546Z"
    }
   },
   "cell_type": "code",
   "source": [
    "# Get dataframe with all records from control group\n",
    "control_df = df.query('group == \"control\"')\n",
    "\n",
    "# Compute click through rate for control group\n",
    "control_ctr = control_df.query('action == \"enroll\"').id.nunique() / control_df.query('action == \"view\"').id.nunique()\n",
    "\n",
    "# Display click through rate\n",
    "control_ctr"
   ],
   "id": "46de2c340519ca82",
   "outputs": [
    {
     "data": {
      "text/plain": [
       "0.2364438839848676"
      ]
     },
     "execution_count": 21,
     "metadata": {},
     "output_type": "execute_result"
    }
   ],
   "execution_count": 21
  },
  {
   "metadata": {
    "ExecuteTime": {
     "end_time": "2025-06-07T08:20:19.070290Z",
     "start_time": "2025-06-07T08:20:19.056469Z"
    }
   },
   "cell_type": "code",
   "source": [
    "# Get dataframe with all records from experiment group\n",
    "experiment_df = df.query('group == \"experiment\"')\n",
    "\n",
    "# Compute click through rate for experiment group\n",
    "experiment_ctr = experiment_df.query('action == \"enroll\"').id.nunique() / experiment_df.query('action == \"view\"').id.nunique()\n",
    "\n",
    "# Display click through rate\n",
    "experiment_ctr"
   ],
   "id": "f53087b0109fd62f",
   "outputs": [
    {
     "data": {
      "text/plain": [
       "0.2668693009118541"
      ]
     },
     "execution_count": 22,
     "metadata": {},
     "output_type": "execute_result"
    }
   ],
   "execution_count": 22
  },
  {
   "metadata": {
    "ExecuteTime": {
     "end_time": "2025-06-07T08:20:19.290753Z",
     "start_time": "2025-06-07T08:20:19.284698Z"
    }
   },
   "cell_type": "code",
   "source": [
    "# Compute the observed difference in click through rates\n",
    "obs_diff = experiment_ctr - control_ctr\n",
    "\n",
    "# Display observed difference\n",
    "obs_diff"
   ],
   "id": "ae1671a1cd0395ba",
   "outputs": [
    {
     "data": {
      "text/plain": [
       "0.030425416926986526"
      ]
     },
     "execution_count": 23,
     "metadata": {},
     "output_type": "execute_result"
    }
   ],
   "execution_count": 23
  },
  {
   "metadata": {
    "ExecuteTime": {
     "end_time": "2025-06-07T08:22:26.421326Z",
     "start_time": "2025-06-07T08:20:19.410951Z"
    }
   },
   "cell_type": "code",
   "source": [
    "# Create a sampling distribution of the difference in proportions\n",
    "# with bootstrapping\n",
    "diffs = []\n",
    "size = df.shape[0]\n",
    "for _ in range(10000):\n",
    "    b_samp = df.sample(size, replace=True)\n",
    "    control_df = b_samp.query('group == \"control\"')\n",
    "    experiment_df = b_samp.query('group == \"experiment\"')\n",
    "    control_ctr = control_df.query('action == \"enroll\"').id.nunique() / control_df.query('action == \"view\"').id.nunique()\n",
    "    experiment_ctr = experiment_df.query('action == \"enroll\"').id.nunique() / experiment_df.query('action == \"view\"').id.nunique()\n",
    "    diffs.append(experiment_ctr - control_ctr)"
   ],
   "id": "ffbd127e20729c9d",
   "outputs": [],
   "execution_count": 24
  },
  {
   "metadata": {
    "ExecuteTime": {
     "end_time": "2025-06-07T08:22:26.736017Z",
     "start_time": "2025-06-07T08:22:26.552025Z"
    }
   },
   "cell_type": "code",
   "source": [
    "diffs = np.array(diffs)\n",
    "plt.hist(diffs);"
   ],
   "id": "f2af836aae120a85",
   "outputs": [
    {
     "data": {
      "text/plain": [
       "<Figure size 640x480 with 1 Axes>"
      ],
      "image/png": "[encoded data removed]"
     },
     "metadata": {},
     "output_type": "display_data"
    }
   ],
   "execution_count": 25
  },
  {
   "metadata": {
    "ExecuteTime": {
     "end_time": "2025-06-07T08:22:27.035614Z",
     "start_time": "2025-06-07T08:22:26.837156Z"
    }
   },
   "cell_type": "code",
   "source": [
    "# Simulate distribution under the null hypothesis\n",
    "null_vals = np.random.normal(0, diffs.std(), diffs.size)\n",
    "\n",
    "# Plot the null distribution\n",
    "plt.hist(null_vals);"
   ],
   "id": "6bdf387b923eccf3",
   "outputs": [
    {
     "data": {
      "text/plain": [
       "<Figure size 640x480 with 1 Axes>"
      ],
      "image/png": "[encoded data removed]"
     },
     "metadata": {},
     "output_type": "display_data"
    }
   ],
   "execution_count": 26
  },
  {
   "metadata": {
    "ExecuteTime": {
     "end_time": "2025-06-07T08:22:27.391299Z",
     "start_time": "2025-06-07T08:22:27.167246Z"
    }
   },
   "cell_type": "code",
   "source": [
    "# Plot observed statistic with the null distibution\n",
    "plt.hist(null_vals);\n",
    "plt.axvline(obs_diff, c='red')"
   ],
   "id": "38075de4bb941058",
   "outputs": [
    {
     "data": {
      "text/plain": [
       "<matplotlib.lines.Line2D at 0x73aba7403370>"
      ]
     },
     "execution_count": 27,
     "metadata": {},
     "output_type": "execute_result"
    },
    {
     "data": {
      "text/plain": [
       "<Figure size 640x480 with 1 Axes>"
      ],
      "image/png": "[encoded data removed]"
     },
     "metadata": {},
     "output_type": "display_data"
    }
   ],
   "execution_count": 27
  },
  {
   "metadata": {
    "ExecuteTime": {
     "end_time": "2025-06-07T08:22:27.440274Z",
     "start_time": "2025-06-07T08:22:27.432598Z"
    }
   },
   "cell_type": "code",
   "source": [
    "# Compute p-value\n",
    "(null_vals > obs_diff).mean()"
   ],
   "id": "52445a42a473eabc",
   "outputs": [
    {
     "data": {
      "text/plain": [
       "0.0188"
      ]
     },
     "execution_count": 28,
     "metadata": {},
     "output_type": "execute_result"
    }
   ],
   "execution_count": 28
  },
  {
   "metadata": {},
   "cell_type": "markdown",
   "source": "### 2.2. Metric: Average Reading Duration",
   "id": "cc169bf5250fe47"
  },
  {
   "metadata": {
    "ExecuteTime": {
     "end_time": "2025-06-07T08:22:27.561192Z",
     "start_time": "2025-06-07T08:22:27.533057Z"
    }
   },
   "cell_type": "code",
   "source": [
    "# get only the views\n",
    "views = df.query('action == \"view\"')\n",
    "\n",
    "# Group by id and group with the duration mean.\n",
    "reading_times = views.groupby(['id','group'])['duration'].mean()\n",
    "\n",
    "#reset index to keep this as a dataframe\n",
    "reading_times = reading_times.reset_index()\n",
    "reading_times.head()"
   ],
   "id": "ffec98c54878503c",
   "outputs": [
    {
     "data": {
      "text/plain": [
       "       id       group    duration\n",
       "0  183260     control  107.331484\n",
       "1  183615  experiment   24.627594\n",
       "2  184277  experiment  193.212489\n",
       "3  184360  experiment  226.586283\n",
       "4  184589  experiment   12.052097"
      ],
      "text/html": [
       "<div>\n",
       "<style scoped>\n",
       "    .dataframe tbody tr th:only-of-type {\n",
       "        vertical-align: middle;\n",
       "    }\n",
       "\n",
       "    .dataframe tbody tr th {\n",
       "        vertical-align: top;\n",
       "    }\n",
       "\n",
       "    .dataframe thead th {\n",
       "        text-align: right;\n",
       "    }\n",
       "</style>\n",
       "<table border=\"1\" class=\"dataframe\">\n",
       "  <thead>\n",
       "    <tr style=\"text-align: right;\">\n",
       "      <th></th>\n",
       "      <th>id</th>\n",
       "      <th>group</th>\n",
       "      <th>duration</th>\n",
       "    </tr>\n",
       "  </thead>\n",
       "  <tbody>\n",
       "    <tr>\n",
       "      <th>0</th>\n",
       "      <td>183260</td>\n",
       "      <td>control</td>\n",
       "      <td>107.331484</td>\n",
       "    </tr>\n",
       "    <tr>\n",
       "      <th>1</th>\n",
       "      <td>183615</td>\n",
       "      <td>experiment</td>\n",
       "      <td>24.627594</td>\n",
       "    </tr>\n",
       "    <tr>\n",
       "      <th>2</th>\n",
       "      <td>184277</td>\n",
       "      <td>experiment</td>\n",
       "      <td>193.212489</td>\n",
       "    </tr>\n",
       "    <tr>\n",
       "      <th>3</th>\n",
       "      <td>184360</td>\n",
       "      <td>experiment</td>\n",
       "      <td>226.586283</td>\n",
       "    </tr>\n",
       "    <tr>\n",
       "      <th>4</th>\n",
       "      <td>184589</td>\n",
       "      <td>experiment</td>\n",
       "      <td>12.052097</td>\n",
       "    </tr>\n",
       "  </tbody>\n",
       "</table>\n",
       "</div>"
      ]
     },
     "execution_count": 29,
     "metadata": {},
     "output_type": "execute_result"
    }
   ],
   "execution_count": 29
  },
  {
   "metadata": {
    "ExecuteTime": {
     "end_time": "2025-06-07T08:22:27.818073Z",
     "start_time": "2025-06-07T08:22:27.799457Z"
    }
   },
   "cell_type": "code",
   "source": [
    "#get means for control/experiment\n",
    "control_mean = df.query('group == \"control\"')['duration'].mean()\n",
    "experiment_mean = df.query('group == \"experiment\"')['duration'].mean()\n",
    "control_mean, experiment_mean"
   ],
   "id": "d9d2bdea104fca07",
   "outputs": [
    {
     "data": {
      "text/plain": [
       "(115.40710650582048, 130.93220512539497)"
      ]
     },
     "execution_count": 30,
     "metadata": {},
     "output_type": "execute_result"
    }
   ],
   "execution_count": 30
  },
  {
   "metadata": {
    "ExecuteTime": {
     "end_time": "2025-06-07T08:22:28.086518Z",
     "start_time": "2025-06-07T08:22:28.081452Z"
    }
   },
   "cell_type": "code",
   "source": [
    "obs_diff = experiment_mean - control_mean\n",
    "obs_diff"
   ],
   "id": "11148ae189d33755",
   "outputs": [
    {
     "data": {
      "text/plain": [
       "15.525098619574493"
      ]
     },
     "execution_count": 31,
     "metadata": {},
     "output_type": "execute_result"
    }
   ],
   "execution_count": 31
  },
  {
   "metadata": {
    "ExecuteTime": {
     "end_time": "2025-06-07T08:23:15.724122Z",
     "start_time": "2025-06-07T08:22:28.323922Z"
    }
   },
   "cell_type": "code",
   "source": [
    "#bootstrap sample\n",
    "diffs = []\n",
    "for _ in range(10000):\n",
    "    b_samp = df.sample(df.shape[0], replace=True)\n",
    "    control_mean = b_samp.query('group == \"control\"')['duration'].mean()\n",
    "    experiment_mean = b_samp.query('group == \"experiment\"')['duration'].mean()\n",
    "    diffs.append(experiment_mean - control_mean)"
   ],
   "id": "9fd8a24fc58dee85",
   "outputs": [],
   "execution_count": 32
  },
  {
   "metadata": {
    "ExecuteTime": {
     "end_time": "2025-06-07T08:23:15.940062Z",
     "start_time": "2025-06-07T08:23:15.750657Z"
    }
   },
   "cell_type": "code",
   "source": [
    "diffs = np.array(diffs)\n",
    "plt.hist(diffs);"
   ],
   "id": "c27f5da711a74dda",
   "outputs": [
    {
     "data": {
      "text/plain": [
       "<Figure size 640x480 with 1 Axes>"
      ],
      "image/png": "[encoded data removed]"
     },
     "metadata": {},
     "output_type": "display_data"
    }
   ],
   "execution_count": 33
  },
  {
   "metadata": {
    "ExecuteTime": {
     "end_time": "2025-06-07T08:23:16.186748Z",
     "start_time": "2025-06-07T08:23:15.972594Z"
    }
   },
   "cell_type": "code",
   "source": [
    "null_vals = np.random.normal(0.,diffs.std(),diffs.size)\n",
    "plt.hist(null_vals);\n",
    "plt.axvline(x=obs_diff,color='red');"
   ],
   "id": "f27a12b653195ec7",
   "outputs": [
    {
     "data": {
      "text/plain": [
       "<Figure size 640x480 with 1 Axes>"
      ],
      "image/png": "[encoded data removed]"
     },
     "metadata": {},
     "output_type": "display_data"
    }
   ],
   "execution_count": 34
  },
  {
   "metadata": {
    "ExecuteTime": {
     "end_time": "2025-06-07T08:23:16.233608Z",
     "start_time": "2025-06-07T08:23:16.227953Z"
    }
   },
   "cell_type": "code",
   "source": [
    "# Compute p-value\n",
    "(null_vals > obs_diff).mean()"
   ],
   "id": "de3dd2faed038075",
   "outputs": [
    {
     "data": {
      "text/plain": [
       "0.0"
      ]
     },
     "execution_count": 35,
     "metadata": {},
     "output_type": "execute_result"
    }
   ],
   "execution_count": 35
  },
  {
   "metadata": {},
   "cell_type": "markdown",
   "source": "### 2.3. Metric: Average Classroom Time",
   "id": "50f341e7cc50a52e"
  },
  {
   "metadata": {
    "ExecuteTime": {
     "end_time": "2025-06-07T08:23:16.357910Z",
     "start_time": "2025-06-07T08:23:16.340340Z"
    }
   },
   "cell_type": "code",
   "source": [
    "df = pd.read_csv('classroom_actions.csv')\n",
    "df.head()"
   ],
   "id": "faf46cab69089a81",
   "outputs": [
    {
     "data": {
      "text/plain": [
       "                    timestamp      id       group  total_days  completed\n",
       "0  2015-08-10 17:06:01.032740  610019  experiment          97       True\n",
       "1  2015-08-10 17:15:28.950975  690224     control          75      False\n",
       "2  2015-08-10 17:34:40.920384  564994  experiment         128       True\n",
       "3  2015-08-10 17:50:39.847374  849588  experiment          66      False\n",
       "4  2015-08-10 19:10:40.650599  849826  experiment          34      False"
      ],
      "text/html": [
       "<div>\n",
       "<style scoped>\n",
       "    .dataframe tbody tr th:only-of-type {\n",
       "        vertical-align: middle;\n",
       "    }\n",
       "\n",
       "    .dataframe tbody tr th {\n",
       "        vertical-align: top;\n",
       "    }\n",
       "\n",
       "    .dataframe thead th {\n",
       "        text-align: right;\n",
       "    }\n",
       "</style>\n",
       "<table border=\"1\" class=\"dataframe\">\n",
       "  <thead>\n",
       "    <tr style=\"text-align: right;\">\n",
       "      <th></th>\n",
       "      <th>timestamp</th>\n",
       "      <th>id</th>\n",
       "      <th>group</th>\n",
       "      <th>total_days</th>\n",
       "      <th>completed</th>\n",
       "    </tr>\n",
       "  </thead>\n",
       "  <tbody>\n",
       "    <tr>\n",
       "      <th>0</th>\n",
       "      <td>2015-08-10 17:06:01.032740</td>\n",
       "      <td>610019</td>\n",
       "      <td>experiment</td>\n",
       "      <td>97</td>\n",
       "      <td>True</td>\n",
       "    </tr>\n",
       "    <tr>\n",
       "      <th>1</th>\n",
       "      <td>2015-08-10 17:15:28.950975</td>\n",
       "      <td>690224</td>\n",
       "      <td>control</td>\n",
       "      <td>75</td>\n",
       "      <td>False</td>\n",
       "    </tr>\n",
       "    <tr>\n",
       "      <th>2</th>\n",
       "      <td>2015-08-10 17:34:40.920384</td>\n",
       "      <td>564994</td>\n",
       "      <td>experiment</td>\n",
       "      <td>128</td>\n",
       "      <td>True</td>\n",
       "    </tr>\n",
       "    <tr>\n",
       "      <th>3</th>\n",
       "      <td>2015-08-10 17:50:39.847374</td>\n",
       "      <td>849588</td>\n",
       "      <td>experiment</td>\n",
       "      <td>66</td>\n",
       "      <td>False</td>\n",
       "    </tr>\n",
       "    <tr>\n",
       "      <th>4</th>\n",
       "      <td>2015-08-10 19:10:40.650599</td>\n",
       "      <td>849826</td>\n",
       "      <td>experiment</td>\n",
       "      <td>34</td>\n",
       "      <td>False</td>\n",
       "    </tr>\n",
       "  </tbody>\n",
       "</table>\n",
       "</div>"
      ]
     },
     "execution_count": 36,
     "metadata": {},
     "output_type": "execute_result"
    }
   ],
   "execution_count": 36
  },
  {
   "metadata": {
    "ExecuteTime": {
     "end_time": "2025-06-07T08:23:16.503081Z",
     "start_time": "2025-06-07T08:23:16.490955Z"
    }
   },
   "cell_type": "code",
   "source": [
    "# get the average classroom time for control group\n",
    "control_mean = df.query('group == \"control\"').total_days.mean()\n",
    "\n",
    "# get the average classroom time for experiment group\n",
    "experiment_mean = df.query('group == \"experiment\"').total_days.mean()\n",
    "\n",
    "# display average classroom time for each group\n",
    "control_mean, experiment_mean"
   ],
   "id": "788eeb16879cf6ae",
   "outputs": [
    {
     "data": {
      "text/plain": [
       "(73.36899038461539, 74.6715935334873)"
      ]
     },
     "execution_count": 37,
     "metadata": {},
     "output_type": "execute_result"
    }
   ],
   "execution_count": 37
  },
  {
   "metadata": {
    "ExecuteTime": {
     "end_time": "2025-06-07T08:23:16.607046Z",
     "start_time": "2025-06-07T08:23:16.602468Z"
    }
   },
   "cell_type": "code",
   "source": [
    "# compute observed difference in classroom time\n",
    "obs_diff = experiment_mean - control_mean\n",
    "\n",
    "# display observed difference\n",
    "obs_diff"
   ],
   "id": "48cce46963da0fb5",
   "outputs": [
    {
     "data": {
      "text/plain": [
       "1.3026031488719099"
      ]
     },
     "execution_count": 38,
     "metadata": {},
     "output_type": "execute_result"
    }
   ],
   "execution_count": 38
  },
  {
   "metadata": {
    "ExecuteTime": {
     "end_time": "2025-06-07T08:24:05.615924Z",
     "start_time": "2025-06-07T08:23:16.803614Z"
    }
   },
   "cell_type": "code",
   "source": [
    "# create sampling distribution of difference in average classroom times\n",
    "# with boostrapping\n",
    "diffs = []\n",
    "size = df.shape[0]\n",
    "for _ in range(10000):\n",
    "    b_samp = df.sample(size, replace=True)\n",
    "    control_mean = b_samp.query('group == \"control\"').total_days.mean()\n",
    "    experiment_mean = b_samp.query('group == \"experiment\"').total_days.mean()\n",
    "    diffs.append(experiment_mean - control_mean)"
   ],
   "id": "29939d1e0bfe0f7a",
   "outputs": [],
   "execution_count": 39
  },
  {
   "metadata": {
    "ExecuteTime": {
     "end_time": "2025-06-07T08:24:05.830105Z",
     "start_time": "2025-06-07T08:24:05.644240Z"
    }
   },
   "cell_type": "code",
   "source": [
    "diffs = np.array(diffs)\n",
    "plt.hist(diffs);"
   ],
   "id": "dbdaf94e91b5b320",
   "outputs": [
    {
     "data": {
      "text/plain": [
       "<Figure size 640x480 with 1 Axes>"
      ],
      "image/png": "[encoded data removed]"
     },
     "metadata": {},
     "output_type": "display_data"
    }
   ],
   "execution_count": 40
  },
  {
   "metadata": {
    "ExecuteTime": {
     "end_time": "2025-06-07T08:24:06.117166Z",
     "start_time": "2025-06-07T08:24:05.867109Z"
    }
   },
   "cell_type": "code",
   "source": [
    "# simulate distribution under the null hypothesis\n",
    "null_vals = np.random.normal(0, diffs.std(), diffs.size)\n",
    "plt.hist(null_vals);\n",
    "plt.axvline(obs_diff, c='red')"
   ],
   "id": "8be10855ce6a7f43",
   "outputs": [
    {
     "data": {
      "text/plain": [
       "<matplotlib.lines.Line2D at 0x73abaab63790>"
      ]
     },
     "execution_count": 41,
     "metadata": {},
     "output_type": "execute_result"
    },
    {
     "data": {
      "text/plain": [
       "<Figure size 640x480 with 1 Axes>"
      ],
      "image/png": "[encoded data removed]"
     },
     "metadata": {},
     "output_type": "display_data"
    }
   ],
   "execution_count": 41
  },
  {
   "metadata": {
    "ExecuteTime": {
     "end_time": "2025-06-07T08:24:06.256561Z",
     "start_time": "2025-06-07T08:24:06.251039Z"
    }
   },
   "cell_type": "code",
   "source": [
    "# compute p value\n",
    "(null_vals > obs_diff).mean()"
   ],
   "id": "a69cbb82c594721c",
   "outputs": [
    {
     "data": {
      "text/plain": [
       "0.0387"
      ]
     },
     "execution_count": 42,
     "metadata": {},
     "output_type": "execute_result"
    }
   ],
   "execution_count": 42
  },
  {
   "metadata": {},
   "cell_type": "markdown",
   "source": "### 2.4. Metric: Completion Rate",
   "id": "fe04a489b8543a62"
  },
  {
   "metadata": {
    "ExecuteTime": {
     "end_time": "2025-06-07T08:24:06.348807Z",
     "start_time": "2025-06-07T08:24:06.335193Z"
    }
   },
   "cell_type": "code",
   "source": [
    "# Create dataframe with all control records\n",
    "control_df = df.query('group == \"control\"')\n",
    "\n",
    "# Compute completion rate\n",
    "control_ctr = control_df['completed'].mean()\n",
    "\n",
    "# Display control complete rate\n",
    "control_ctr"
   ],
   "id": "a204047b5e7a1f97",
   "outputs": [
    {
     "data": {
      "text/plain": [
       "0.3719951923076923"
      ]
     },
     "execution_count": 43,
     "metadata": {},
     "output_type": "execute_result"
    }
   ],
   "execution_count": 43
  },
  {
   "metadata": {
    "ExecuteTime": {
     "end_time": "2025-06-07T08:24:06.466593Z",
     "start_time": "2025-06-07T08:24:06.458703Z"
    }
   },
   "cell_type": "code",
   "source": [
    "# Create dataframe with all experiment records\n",
    "experiment_df = df.query('group == \"experiment\"')\n",
    "\n",
    "# Compute completion rate\n",
    "experiment_ctr = experiment_df['completed'].mean()\n",
    "\n",
    "# Display experiment complete rate\n",
    "experiment_ctr"
   ],
   "id": "32123cc73d67ee86",
   "outputs": [
    {
     "data": {
      "text/plain": [
       "0.3935334872979215"
      ]
     },
     "execution_count": 44,
     "metadata": {},
     "output_type": "execute_result"
    }
   ],
   "execution_count": 44
  },
  {
   "metadata": {
    "ExecuteTime": {
     "end_time": "2025-06-07T08:26:01.953324Z",
     "start_time": "2025-06-07T08:26:01.946120Z"
    }
   },
   "cell_type": "code",
   "source": [
    "# Compute observed difference in completion rates\n",
    "obs_diff = experiment_ctr - control_ctr\n",
    "\n",
    "# Display observed difference in completion rates\n",
    "obs_diff"
   ],
   "id": "fec8a8eaa3146b90",
   "outputs": [
    {
     "data": {
      "text/plain": [
       "0.02153829499022919"
      ]
     },
     "execution_count": 45,
     "metadata": {},
     "output_type": "execute_result"
    }
   ],
   "execution_count": 45
  },
  {
   "metadata": {
    "ExecuteTime": {
     "end_time": "2025-06-07T08:26:57.934943Z",
     "start_time": "2025-06-07T08:26:09.078783Z"
    }
   },
   "cell_type": "code",
   "source": [
    "# Create sampling distribution for difference in completion rates with boostrapping\n",
    "diffs = []\n",
    "size = df.shape[0]\n",
    "for _ in range(10000):\n",
    "    b_samp = df.sample(size, replace=True)\n",
    "    control_df = b_samp.query('group == \"control\"')\n",
    "    experiment_df = b_samp.query('group == \"experiment\"')\n",
    "    control_ctr = control_df['completed'].mean()\n",
    "    experiment_ctr = experiment_df['completed'].mean()\n",
    "    diffs.append(experiment_ctr - control_ctr)"
   ],
   "id": "a1413b19d5aa5741",
   "outputs": [],
   "execution_count": 46
  },
  {
   "metadata": {
    "ExecuteTime": {
     "end_time": "2025-06-07T08:26:59.094913Z",
     "start_time": "2025-06-07T08:26:58.943793Z"
    }
   },
   "cell_type": "code",
   "source": [
    "diffs = np.array(diffs)\n",
    "plt.hist(diffs);"
   ],
   "id": "e3d0f1dd977ab1f7",
   "outputs": [
    {
     "data": {
      "text/plain": [
       "<Figure size 640x480 with 1 Axes>"
      ],
      "image/png": "[encoded data removed]"
     },
     "metadata": {},
     "output_type": "display_data"
    }
   ],
   "execution_count": 51
  },
  {
   "metadata": {
    "ExecuteTime": {
     "end_time": "2025-06-07T08:26:58.907286Z",
     "start_time": "2025-06-07T08:26:58.749575Z"
    }
   },
   "cell_type": "code",
   "source": [
    "# create distribution under the null hypothesis\n",
    "null_vals = np.random.normal(0, diffs.std(), diffs.size)\n",
    "plt.hist(null_vals);\n",
    "plt.axvline(obs_diff, c='red');"
   ],
   "id": "c250954a64768248",
   "outputs": [
    {
     "data": {
      "text/plain": [
       "<Figure size 640x480 with 1 Axes>"
      ],
      "image/png": "[encoded data removed]"
     },
     "metadata": {},
     "output_type": "display_data"
    }
   ],
   "execution_count": 50
  },
  {
   "metadata": {
    "ExecuteTime": {
     "end_time": "2025-06-07T08:26:59.167839Z",
     "start_time": "2025-06-07T08:26:59.163469Z"
    }
   },
   "cell_type": "code",
   "source": [
    "# compute p value\n",
    "(null_vals > obs_diff).mean()"
   ],
   "id": "2212dd6d7741de55",
   "outputs": [
    {
     "data": {
      "text/plain": [
       "0.082"
      ]
     },
     "execution_count": 52,
     "metadata": {},
     "output_type": "execute_result"
    }
   ],
   "execution_count": 52
  }
 ],
 "metadata": {
  "kernelspec": {
   "display_name": "Python 3",
   "language": "python",
   "name": "python3"
  },
  "language_info": {
   "codemirror_mode": {
    "name": "ipython",
    "version": 2
   },
   "file_extension": ".py",
   "mimetype": "text/x-python",
   "name": "python",
   "nbconvert_exporter": "python",
   "pygments_lexer": "ipython2",
   "version": "2.7.6"
  }
 },
 "nbformat": 4,
 "nbformat_minor": 5
}
